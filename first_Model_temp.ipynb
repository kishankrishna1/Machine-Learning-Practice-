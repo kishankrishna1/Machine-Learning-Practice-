{
 "cells": [
  {
   "cell_type": "code",
   "execution_count": 1,
   "id": "7345b7fb",
   "metadata": {},
   "outputs": [],
   "source": [
    "from sklearn.tree import DecisionTreeClassifier"
   ]
  },
  {
   "cell_type": "markdown",
   "id": "b823eb20",
   "metadata": {},
   "source": [
    "### Step 1: Collect Data\n",
    " Features: [weight (grams), color (0 = red, 1 = orange)]"
   ]
  },
  {
   "cell_type": "code",
   "execution_count": 3,
   "id": "2ff9e1f4",
   "metadata": {},
   "outputs": [],
   "source": [
    "features = [\n",
    "    [150, 0],  # Apple\n",
    "    [170, 0],  # Apple\n",
    "    [130, 1],  # Orange\n",
    "    [120, 1],  # Orange\n",
    "]"
   ]
  },
  {
   "cell_type": "code",
   "execution_count": 4,
   "id": "c381f08a",
   "metadata": {},
   "outputs": [],
   "source": [
    "labels = [\"apple\", \"apple\", \"orange\", \"orange\"]"
   ]
  },
  {
   "cell_type": "markdown",
   "id": "c5532813",
   "metadata": {},
   "source": [
    "### # Step 2: Train a model"
   ]
  },
  {
   "cell_type": "code",
   "execution_count": 7,
   "id": "2f21d155",
   "metadata": {},
   "outputs": [],
   "source": [
    "clf = DecisionTreeClassifier()\n",
    "clf = clf.fit(features, labels)"
   ]
  },
  {
   "cell_type": "markdown",
   "id": "f3bd1a2a",
   "metadata": {},
   "source": [
    "### # Step 3: Predict!"
   ]
  },
  {
   "cell_type": "code",
   "execution_count": 8,
   "id": "3c8cc3d6",
   "metadata": {},
   "outputs": [
    {
     "name": "stdout",
     "output_type": "stream",
     "text": [
      "['apple']\n",
      "['orange']\n"
     ]
    }
   ],
   "source": [
    "print(clf.predict([[160, 0]]))  # Heavy and red-ish? Probably an apple!\n",
    "print(clf.predict([[115, 1]])) # Light and orange? Probably an orange!"
   ]
  },
  {
   "cell_type": "code",
   "execution_count": null,
   "id": "e219c3de",
   "metadata": {},
   "outputs": [],
   "source": []
  }
 ],
 "metadata": {
  "kernelspec": {
   "display_name": "base",
   "language": "python",
   "name": "python3"
  },
  "language_info": {
   "codemirror_mode": {
    "name": "ipython",
    "version": 3
   },
   "file_extension": ".py",
   "mimetype": "text/x-python",
   "name": "python",
   "nbconvert_exporter": "python",
   "pygments_lexer": "ipython3",
   "version": "3.13.5"
  }
 },
 "nbformat": 4,
 "nbformat_minor": 5
}
